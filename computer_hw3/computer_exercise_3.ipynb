{
 "cells": [
  {
   "cell_type": "code",
   "execution_count": 1,
   "metadata": {},
   "outputs": [],
   "source": [
    "import time\n",
    "import operator\n",
    "from typing import NamedTuple\n",
    "import numpy as np\n",
    "import matplotlib.pyplot as plt\n",
    "import math"
   ]
  },
  {
   "cell_type": "markdown",
   "metadata": {},
   "source": [
    "# Part I: Environment Definition"
   ]
  },
  {
   "cell_type": "markdown",
   "metadata": {},
   "source": [
    "## Question 1"
   ]
  },
  {
   "cell_type": "markdown",
   "metadata": {},
   "source": [
    "Since the robot is a point robot in a two-dimensional space, its coordinates in the workspace are exactly the degrees of freedom controlled in the configuration space; therefore, no transformation is necessary. "
   ]
  },
  {
   "cell_type": "code",
   "execution_count": 2,
   "metadata": {},
   "outputs": [],
   "source": [
    "class Config(NamedTuple):\n",
    "    x: float\n",
    "    y: float"
   ]
  },
  {
   "cell_type": "markdown",
   "metadata": {},
   "source": [
    "## Question 2"
   ]
  },
  {
   "cell_type": "code",
   "execution_count": 3,
   "metadata": {},
   "outputs": [
    {
     "name": "stdout",
     "output_type": "stream",
     "text": [
      "3.605551275463989\n"
     ]
    }
   ],
   "source": [
    "config1 = Config(2, 3)\n",
    "config2 = Config(4, 6)\n",
    "# Euclidean distance between config1 and config2:\n",
    "dist = np.sqrt(np.sum(np.square(np.array(config1) - np.array(config2))))\n",
    "print(dist)"
   ]
  },
  {
   "cell_type": "code",
   "execution_count": 4,
   "metadata": {},
   "outputs": [],
   "source": [
    "class MapEnvironment:\n",
    "\n",
    "    def __init__(self, mapfile):\n",
    "\n",
    "        # Obtain the boundary limits\n",
    "        self.map = np.loadtxt(mapfile)\n",
    "        self.xlimit = [0, np.shape(self.map)[1] - 1]\n",
    "        self.ylimit = [0, np.shape(self.map)[0] - 1]\n",
    "\n",
    "        self._show_map()\n",
    "\n",
    "    def _show_map(self):\n",
    "        plt.imshow(self.map, interpolation='nearest')\n",
    "        plt.xlabel('x')\n",
    "        plt.ylabel('y')\n",
    "\n",
    "    def compute_distance(self, start_config, end_config):\n",
    "        return math.sqrt((start_config.x - end_config.x)**2 + (start_config.y - end_config.y)**2)\n",
    "        # The following are both (surprisingly?) slower\n",
    "        # return np.sqrt(np.square(start_config.x - end_config.x) + np.square(start_config.y - end_config.y))\n",
    "        # return np.sqrt(np.sum(np.square(np.array(start_config) - np.array(end_config))))\n",
    "\n",
    "    def check_state_validity(self, config):\n",
    "        # check within limit\n",
    "        if config.x < self.xlimit[0] or config.x > self.xlimit[1] or \\\n",
    "                config.y < self.ylimit[0] or config.y > self.ylimit[1]:\n",
    "            return False\n",
    "        # check collision (built-in round is faster than np.round)\n",
    "        # x, y = int(np.round(config.x)), int(np.round(config.y))\n",
    "        x, y = int(round(config.x)), int(round(config.y))\n",
    "        return not self.map[y][x]\n",
    "\n",
    "    def check_edge_validity(self, config1, config2, visualize=False, pts=50):\n",
    "        if visualize:\n",
    "            self._show_map()\n",
    "            plt.plot(config1.x, config1.y, 'o', color='w')\n",
    "            plt.plot(config2.x, config2.y, 'o', color='w')\n",
    "            plt.plot([config1.x, config2.x], [config1.y, config2.y], color='w')\n",
    "\n",
    "        # Check validity of pts equally spaced points along the edge\n",
    "        arr = np.linspace(0, 1, pts)\n",
    "        np.random.shuffle(arr)\n",
    "        for alpha in arr:\n",
    "            new_x = alpha * config1.x + (1.0 - alpha) * config2.x\n",
    "            new_y = alpha * config1.y + (1.0 - alpha) * config2.y\n",
    "            if not self.check_state_validity(Config(new_x, new_y)):\n",
    "                return False\n",
    "\n",
    "        return True\n",
    "\n",
    "    def visualize_plan(self, plan):\n",
    "        self._show_map()\n",
    "        plt.plot(plan[0].x, plan[0].y, 'o', color='g')\n",
    "        plt.plot(plan[-1].x, plan[-1].y, 'o', color='r')\n",
    "        for first_config, second_config in zip(plan, plan[1:]):\n",
    "            plt.plot([first_config.x, second_config.x], [first_config.y, second_config.y], color='w')\n",
    "        plt.show()"
   ]
  },
  {
   "cell_type": "markdown",
   "metadata": {},
   "source": [
    "## Question 3"
   ]
  },
  {
   "cell_type": "code",
   "execution_count": 5,
   "metadata": {},
   "outputs": [
    {
     "data": {
      "text/plain": [
       "<__main__.MapEnvironment at 0x109e14978>"
      ]
     },
     "execution_count": 5,
     "metadata": {},
     "output_type": "execute_result"
    },
    {
     "data": {
      "image/png": "[encoded data removed]",
      "text/plain": [
       "<Figure size 432x288 with 1 Axes>"
      ]
     },
     "metadata": {
      "needs_background": "light"
     },
     "output_type": "display_data"
    }
   ],
   "source": [
    "MapEnvironment('map3.txt')"
   ]
  },
  {
   "cell_type": "markdown",
   "metadata": {},
   "source": [
    "## Question 4"
   ]
  },
  {
   "cell_type": "code",
   "execution_count": 6,
   "metadata": {},
   "outputs": [
    {
     "name": "stdout",
     "output_type": "stream",
     "text": [
      "Distance between Config(x=3.711853704552933, y=0.8177725454201035) and Config(x=7.977661288139527, y=5.54485267605352) is 6.367291488664088\n"
     ]
    },
    {
     "data": {
      "image/png": "[encoded data removed]",
      "text/plain": [
       "<Figure size 432x288 with 1 Axes>"
      ]
     },
     "metadata": {
      "needs_background": "light"
     },
     "output_type": "display_data"
    }
   ],
   "source": [
    "# Compute distance between two arbitrary configurations in map1\n",
    "env = MapEnvironment('map1.txt')\n",
    "x1, x2 = np.random.uniform(low=env.xlimit[0], high=env.xlimit[1], size=2)\n",
    "y1, y2 = np.random.uniform(low=env.ylimit[0], high=env.ylimit[1], size=2)\n",
    "config1 = Config(x1, y1)\n",
    "config2 = Config(x2, y2)\n",
    "dist = env.compute_distance(config1, config2)\n",
    "\n",
    "print(f\"Distance between {config1} and {config2} is {dist}\")"
   ]
  },
  {
   "cell_type": "markdown",
   "metadata": {},
   "source": [
    "## Question 5"
   ]
  },
  {
   "cell_type": "code",
   "execution_count": 7,
   "metadata": {},
   "outputs": [
    {
     "name": "stdout",
     "output_type": "stream",
     "text": [
      "True\n"
     ]
    },
    {
     "data": {
      "image/png": "[encoded data removed]",
      "text/plain": [
       "<Figure size 432x288 with 1 Axes>"
      ]
     },
     "metadata": {
      "needs_background": "light"
     },
     "output_type": "display_data"
    }
   ],
   "source": [
    "# Valid edge example:\n",
    "env = MapEnvironment('map1.txt')\n",
    "print(env.check_edge_validity(Config(4,0), Config(4,4), visualize=True))\n"
   ]
  },
  {
   "cell_type": "code",
   "execution_count": 21,
   "metadata": {},
   "outputs": [
    {
     "name": "stdout",
     "output_type": "stream",
     "text": [
      "False\n"
     ]
    },
    {
     "data": {
      "image/png": "[encoded data removed]",
      "text/plain": [
       "<Figure size 432x288 with 1 Axes>"
      ]
     },
     "metadata": {
      "needs_background": "light"
     },
     "output_type": "display_data"
    }
   ],
   "source": [
    "# Invalid edge example:\n",
    "env = MapEnvironment('map1.txt')\n",
    "print(env.check_edge_validity(Config(4, 4), Config(0, 4), visualize=True))"
   ]
  },
  {
   "cell_type": "markdown",
   "metadata": {},
   "source": [
    "## Question 6"
   ]
  },
  {
   "cell_type": "code",
   "execution_count": 8,
   "metadata": {},
   "outputs": [
    {
     "data": {
      "image/png": "[encoded data removed]",
      "text/plain": [
       "<Figure size 432x288 with 1 Axes>"
      ]
     },
     "metadata": {
      "needs_background": "light"
     },
     "output_type": "display_data"
    }
   ],
   "source": [
    "planning_env = MapEnvironment('map1.txt')\n",
    "# plan = [Config(6, 7), Config(7, 8), Config(8, 8), Config(8, 6), Config(8, 3),\n",
    "#         Config(7, 3), Config(7, 1), Config(6, 0), Config(4, 1), Config(4, 2), Config(4, 4)]\n",
    "plan = [Config(6, 7), Config(7, 8), Config(8, 8), Config(8, 6), Config(8, 3),\n",
    "        Config(7, 1), Config(4, 1), Config(4, 2), Config(4, 4)]\n",
    "planning_env.visualize_plan(plan)\n",
    "# The uncommented plan is modified from the original, commented plan"
   ]
  },
  {
   "cell_type": "markdown",
   "metadata": {},
   "source": [
    "# Part II: RRT"
   ]
  },
  {
   "cell_type": "code",
   "execution_count": 9,
   "metadata": {},
   "outputs": [],
   "source": [
    "class RRTTree:\n",
    "\n",
    "    def __init__(self, planning_env):\n",
    "        self.planning_env = planning_env\n",
    "        self.vertices = []\n",
    "        self.edges = dict()\n",
    "\n",
    "    def get_root_id(self):\n",
    "        return 0\n",
    "\n",
    "    def get_nearest_vertex(self, config):\n",
    "        dists = []\n",
    "        for v in self.vertices:\n",
    "            dists.append(self.planning_env.compute_distance(config, v))\n",
    "\n",
    "        vid, vdist = min(enumerate(dists), key=operator.itemgetter(1))\n",
    "\n",
    "        return vid, self.vertices[vid]\n",
    "\n",
    "    def add_vertex(self, config):\n",
    "        vid = len(self.vertices)\n",
    "        self.vertices.append(config)\n",
    "        return vid\n",
    "\n",
    "    def add_edge(self, sid, eid):\n",
    "        self.edges[eid] = sid"
   ]
  },
  {
   "cell_type": "code",
   "execution_count": 10,
   "metadata": {},
   "outputs": [],
   "source": [
    "class RRTPlanner(object):\n",
    "\n",
    "    def __init__(self, planning_env):\n",
    "        self.planning_env = planning_env\n",
    "        self.tree = RRTTree(self.planning_env)\n",
    "\n",
    "    def sample_random_config(self, goal_pose=None, r=1.0):\n",
    "        if goal_pose is None:\n",
    "            low_x, high_x = self.planning_env.xlimit\n",
    "            low_y, high_y = self.planning_env.ylimit\n",
    "        else:\n",
    "            low_x = max(goal_pose.x - r, self.planning_env.xlimit[0])\n",
    "            high_x = min(goal_pose.x + r, self.planning_env.xlimit[1])\n",
    "            low_y = max(goal_pose.y - r, self.planning_env.ylimit[0])\n",
    "            high_y = min(goal_pose.y + r, self.planning_env.ylimit[1])\n",
    "\n",
    "        x = np.random.uniform(low=low_x, high=high_x)\n",
    "        y = np.random.uniform(low=low_y, high=high_y)\n",
    "        return Config(x, y)\n",
    "\n",
    "    def extend_and_check(self, home, target, eta):\n",
    "        x_new = (1.0 - eta) * home.x + eta * target.x\n",
    "        y_new = (1.0 - eta) * home.y + eta * target.y\n",
    "        if self.planning_env.check_edge_validity(home, Config(x_new, y_new)):\n",
    "            return Config(x_new, y_new)\n",
    "        else:\n",
    "            return None\n",
    "\n",
    "    def post_process(self, plan, pp_steps=25):\n",
    "        for _ in range(pp_steps):\n",
    "            if len(plan) < 3:\n",
    "                return plan\n",
    "            vid = np.random.choice(np.arange(1, len(plan) - 1))\n",
    "            v = plan[vid]\n",
    "            v_prev = plan[vid - 1]\n",
    "            v_next = plan[vid + 1]\n",
    "            last_points = []\n",
    "            edges = True\n",
    "            for ind, eta in enumerate(np.linspace(1, 0, 10)):\n",
    "                p_prev = Config((1.0 - eta) * v.x + eta * v_prev.x, (1.0 - eta) * v.y + eta * v_prev.y)\n",
    "                p_next = Config((1.0 - eta) * v.x + eta * v_next.x, (1.0 - eta) * v.y + eta * v_next.y)\n",
    "                segment_length = self.planning_env.compute_distance(p_prev, p_next)\n",
    "                found = self.planning_env.check_edge_validity(p_prev, p_next, pts=100 * int(np.ceil(segment_length)))\n",
    "                if found:\n",
    "                    last_points = [p_prev, p_next]\n",
    "                    break\n",
    "                edges = False\n",
    "\n",
    "            if len(last_points):\n",
    "                del plan[vid]\n",
    "                if not edges:\n",
    "                    plan[vid:vid] = last_points\n",
    "\n",
    "        return plan\n",
    "\n",
    "    def plan(self, start_config, goal_config, eta=0.3, max_iterations=10000, bias_thresh=0.01, second_try=False):\n",
    "\n",
    "        if 'adaptive' == eta:\n",
    "            adaptive = True\n",
    "            eta = 0.5\n",
    "        else:\n",
    "            adaptive = False\n",
    "\n",
    "        # Initialize an empty plan\n",
    "        plan = []\n",
    "\n",
    "        # Start with adding the start configuration to the tree\n",
    "        self.tree.add_vertex(start_config)\n",
    "\n",
    "        goal_id = -1\n",
    "        streak = 0\n",
    "        # Main search loop\n",
    "        for step in range(max_iterations):\n",
    "            x_rand = self.sample_random_config(goal_pose=(goal_config if np.random.uniform() < bias_thresh else None))\n",
    "            near_id, x_near = self.tree.get_nearest_vertex(x_rand)\n",
    "            x_new = self.extend_and_check(x_near, x_rand, eta)\n",
    "            if x_new is not None:\n",
    "                new_id = self.tree.add_vertex(x_new)\n",
    "                self.tree.add_edge(near_id, new_id)\n",
    "                if adaptive:\n",
    "                    if streak > 0:\n",
    "                        streak = -1\n",
    "                    elif -10 < streak <= 0:\n",
    "                        streak -= 1\n",
    "                    else:\n",
    "                        eta = 1.1 * eta\n",
    "                        if eta > 1.0:\n",
    "                            eta = 1.0\n",
    "                        streak = 0\n",
    "            else:\n",
    "                if adaptive:\n",
    "                    if streak < 0:\n",
    "                        streak = 1\n",
    "                    elif 0 <= streak < 100:\n",
    "                        streak += 1\n",
    "                        if not streak % 10:\n",
    "                            eta = 0.9 * eta\n",
    "                            if eta < 0.001:\n",
    "                                eta = 0.001\n",
    "                    else:\n",
    "                        break\n",
    "                continue\n",
    "\n",
    "            if self.planning_env.check_edge_validity(x_new, goal_config):\n",
    "                goal_id = self.tree.add_vertex(goal_config)\n",
    "                self.tree.add_edge(new_id, goal_id)\n",
    "                break\n",
    "\n",
    "        if goal_id > 0:\n",
    "            end_id = goal_id\n",
    "            while end_id:\n",
    "                end_v = self.tree.vertices[end_id]\n",
    "                plan.insert(0, end_v)\n",
    "\n",
    "                # Greedy smoothing to shorten path if possible\n",
    "                start_id = self.tree.edges[end_id]\n",
    "                while start_id:\n",
    "                    new_start_id = self.tree.edges[start_id]\n",
    "                    if self.planning_env.check_edge_validity(end_v, self.tree.vertices[new_start_id]):\n",
    "                        start_id = new_start_id\n",
    "                    else:\n",
    "                        break\n",
    "                end_id = start_id\n",
    "\n",
    "            plan.insert(0, self.tree.vertices[0])\n",
    "            plan = self.post_process(plan)\n",
    "            return plan\n",
    "        elif not goal_id:\n",
    "            plan.append(goal_config)\n",
    "            return plan\n",
    "        else:\n",
    "            # if second_try:\n",
    "            #     return None\n",
    "            # else:\n",
    "            #     res = self.plan(start_config, goal_config, eta, max_iterations, bias_thresh, second_try=True)\n",
    "            #     print(f'Res is {res if not res else True} on second try')\n",
    "            #     return res\n",
    "            return None"
   ]
  },
  {
   "cell_type": "markdown",
   "metadata": {},
   "source": [
    "# Evaluation"
   ]
  },
  {
   "cell_type": "code",
   "execution_count": 11,
   "metadata": {},
   "outputs": [],
   "source": [
    "def evaluate(planning_env, start, goal):\n",
    "    \n",
    "    planner = RRTPlanner(planning_env)\n",
    "\n",
    "    ts = time.time()\n",
    "    plan = planner.plan(start, goal)\n",
    "    tf = time.time()   \n",
    "    duration = tf - ts\n",
    "\n",
    "    if plan is None:\n",
    "        raise Exception('No path found')\n",
    "    \n",
    "    if plan[0] != start or plan[-1] != goal:\n",
    "        raise Exception('Wrong path')\n",
    "        \n",
    "    total_cost = 0\n",
    "    invalid_samples = 0\n",
    "    total_samples = 0\n",
    "    for segment in zip(plan, plan[1:]):\n",
    "        first_config, second_config = segment\n",
    "        segment_length = planning_env.compute_distance(first_config, second_config)\n",
    "        total_cost += segment_length\n",
    "        for _ in range(100 * int(np.ceil(segment_length))):\n",
    "            a = np.random.uniform(0, 1)       \n",
    "            sample_x = a * first_config.x + (1 - a) * second_config.x\n",
    "            sample_y = a * first_config.y + (1 - a) * second_config.y\n",
    "            sample_config = Config(sample_x, sample_y)\n",
    "            total_samples += 1\n",
    "            if not planning_env.check_state_validity(sample_config):\n",
    "                invalid_samples += 1\n",
    "    planning_env.visualize_plan(plan)\n",
    "    invalidity_ratio = invalid_samples / total_samples\n",
    "    return invalidity_ratio, total_cost, duration"
   ]
  },
  {
   "cell_type": "code",
   "execution_count": 12,
   "metadata": {},
   "outputs": [
    {
     "data": {
      "image/png": "[encoded data removed]",
      "text/plain": [
       "<Figure size 432x288 with 1 Axes>"
      ]
     },
     "metadata": {
      "needs_background": "light"
     },
     "output_type": "display_data"
    },
    {
     "name": "stdout",
     "output_type": "stream",
     "text": [
      "Invalidity: 0.0, Cost: 14.578167772425399, Duration: 0.136214017868042\n"
     ]
    }
   ],
   "source": [
    "invalidity_ratio, total_cost, duration = evaluate(MapEnvironment('map1.txt'), start=Config(3, 4), goal=Config(6, 7))\n",
    "print(f'Invalidity: {invalidity_ratio}, Cost: {total_cost}, Duration: {duration}')"
   ]
  },
  {
   "cell_type": "code",
   "execution_count": 13,
   "metadata": {},
   "outputs": [
    {
     "data": {
      "image/png": "[encoded data removed]",
      "text/plain": [
       "<Figure size 432x288 with 1 Axes>"
      ]
     },
     "metadata": {
      "needs_background": "light"
     },
     "output_type": "display_data"
    },
    {
     "name": "stdout",
     "output_type": "stream",
     "text": [
      "Invalidity: 0.0, Cost: 359.9960386882462, Duration: 1.3406641483306885\n"
     ]
    }
   ],
   "source": [
    "invalidity_ratio, total_cost, duration = evaluate(MapEnvironment('map2.txt'), start=Config(350, 400), goal=Config(250, 100))\n",
    "print(f'Invalidity: {invalidity_ratio}, Cost: {total_cost}, Duration: {duration}')"
   ]
  }
 ],
 "metadata": {
  "kernelspec": {
   "display_name": "Python 3",
   "language": "python",
   "name": "python3"
  },
  "language_info": {
   "codemirror_mode": {
    "name": "ipython",
    "version": 3
   },
   "file_extension": ".py",
   "mimetype": "text/x-python",
   "name": "python",
   "nbconvert_exporter": "python",
   "pygments_lexer": "ipython3",
   "version": "3.6.8"
  }
 },
 "nbformat": 4,
 "nbformat_minor": 2
}
