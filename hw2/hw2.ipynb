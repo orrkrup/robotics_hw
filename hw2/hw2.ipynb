{
 "cells": [
  {
   "cell_type": "code",
   "execution_count": 70,
   "id": "133c4072",
   "metadata": {},
   "outputs": [],
   "source": [
    "import csv\n",
    "import numpy as np\n",
    "from scipy.optimize import fmin, minimize"
   ]
  },
  {
   "cell_type": "code",
   "execution_count": 48,
   "id": "5c22f07e",
   "metadata": {},
   "outputs": [],
   "source": [
    "qlist = []\n",
    "xlist = []\n",
    "with open('measurements.csv', 'r') as f:\n",
    "    reader = csv.reader(f, quoting=csv.QUOTE_NONNUMERIC)\n",
    "    try:\n",
    "        next(reader)\n",
    "    except ValueError:\n",
    "        pass\n",
    "    for line in reader:\n",
    "        qlist.append(line[1:4])\n",
    "        xlist.append(line[4:])\n",
    "\n",
    "q = np.array(qlist, dtype=np.float32)\n",
    "x = np.array(xlist, dtype=np.float32)"
   ]
  },
  {
   "cell_type": "code",
   "execution_count": 85,
   "id": "f6666e63",
   "metadata": {},
   "outputs": [],
   "source": [
    "# q = np.array(shape=(N, 3))\n",
    "\n",
    "z = np.zeros((q.shape[0], 3), dtype=np.float32)\n",
    "z[:, -1] += 1.0\n",
    "\n",
    "c1 = np.cos(q[:, 0])\n",
    "c2 = np.cos(q[:, 1])\n",
    "s1 = np.sin(q[:, 0])\n",
    "s2 = np.sin(q[:, 1])\n",
    "c23 = np.cos(q[:, 1] + q[:, 2])\n",
    "s23 = np.sin(q[:, 1] + q[:, 2])\n",
    "\n",
    "v1 = np.stack((c1 * c2, s1 * c2, s2), axis=1)\n",
    "v2 = np.stack((c1 * c23, s1 * c23, s23), axis=1)\n",
    "\n",
    "# qmat.shape == (N, 3, )3\n",
    "qmat = np.stack((z, v1, v2), axis=2)\n",
    "\n",
    "    \n",
    "def f(l, qmat, x):\n",
    "    # Will also work with l (no tile, automatically broadcast) and then no need to squeeze fk below\n",
    "    l_arr = np.expand_dims(np.tile(l, (qmat.shape[0], 1)), -1)\n",
    "    fk = np.matmul(qmat, l_arr)\n",
    "    targ = fk.squeeze() - x\n",
    "    return np.sum(targ * targ)\n",
    "    \n"
   ]
  },
  {
   "cell_type": "code",
   "execution_count": 62,
   "id": "f4802eea",
   "metadata": {},
   "outputs": [
    {
     "data": {
      "text/plain": [
       "(27, 3)"
      ]
     },
     "execution_count": 62,
     "metadata": {},
     "output_type": "execute_result"
    }
   ],
   "source": [
    "np.tile(np.array((2., 2., 2.)), (qmat.shape[0], 1)).shape"
   ]
  },
  {
   "cell_type": "code",
   "execution_count": 86,
   "id": "c3359513",
   "metadata": {},
   "outputs": [
    {
     "name": "stdout",
     "output_type": "stream",
     "text": [
      "Optimization terminated successfully.\n",
      "         Current function value: 0.057758\n",
      "         Iterations: 60\n",
      "         Function evaluations: 109\n"
     ]
    }
   ],
   "source": [
    "l0 = np.array((2.0, 2.0, 2.0))\n",
    "\n",
    "val_list = []\n",
    "\n",
    "def cb(lk):\n",
    "    val_list.append(f(lk, qmat, x))\n",
    "    \n",
    "res = fmin(f, l0, args=(qmat, x), ftol=0.000000001, callback=cb)\n",
    "# res = minimize(f, l0, args=(qmat, x), callback=cb)"
   ]
  },
  {
   "cell_type": "code",
   "execution_count": 87,
   "id": "cd78dffb",
   "metadata": {},
   "outputs": [
    {
     "data": {
      "image/png": "[encoded data removed]",
      "text/plain": [
       "<Figure size 432x288 with 1 Axes>"
      ]
     },
     "metadata": {
      "needs_background": "light"
     },
     "output_type": "display_data"
    }
   ],
   "source": [
    "import matplotlib.pyplot as plt\n",
    "\n",
    "plt.plot(val_list)\n",
    "ax = plt.gca()\n",
    "ax.set_xlabel('Iterations')\n",
    "ax.set_ylabel('Objective Function Value')\n",
    "plt.show()"
   ]
  },
  {
   "cell_type": "code",
   "execution_count": 88,
   "id": "beadc429",
   "metadata": {},
   "outputs": [
    {
     "name": "stdout",
     "output_type": "stream",
     "text": [
      "MSE before optimization (l = [2. 2. 2.]) is 0.002196531178641651\n",
      "MSE after optimization (l = [1.99560506 1.99486633 2.00341869]) is 0.0021391797890890326\n"
     ]
    }
   ],
   "source": [
    "mse0 = f(l0, qmat, x) / qmat.shape[0]\n",
    "msef = f(res, qmat, x) / qmat.shape[0]\n",
    "print(f'MSE before optimization (l = {l0}) is {mse0}')\n",
    "print(f'MSE after optimization (l = {res}) is {msef}')"
   ]
  }
 ],
 "metadata": {
  "kernelspec": {
   "display_name": "Python 3",
   "language": "python",
   "name": "python3"
  },
  "language_info": {
   "codemirror_mode": {
    "name": "ipython",
    "version": 3
   },
   "file_extension": ".py",
   "mimetype": "text/x-python",
   "name": "python",
   "nbconvert_exporter": "python",
   "pygments_lexer": "ipython3",
   "version": "3.6.8"
  }
 },
 "nbformat": 4,
 "nbformat_minor": 5
}
